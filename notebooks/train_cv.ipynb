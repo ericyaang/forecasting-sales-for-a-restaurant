{
 "cells": [
  {
   "cell_type": "code",
   "execution_count": 1,
   "metadata": {},
   "outputs": [],
   "source": [
    "from src import utils\n",
    "from omegaconf import OmegaConf\n",
    "from src.train_hyperopt import load_train\n",
    "\n",
    "cfg = OmegaConf.load(\"..\\config\\main.yaml\")\n",
    "\n",
    "data = utils.load_data(cfg)\n",
    "model = utils.load_model(data, cfg)"
   ]
  },
  {
   "cell_type": "code",
   "execution_count": 27,
   "metadata": {},
   "outputs": [],
   "source": [
    "from sklearn.model_selection import TimeSeriesSplit, cross_validate, cross_val_predict\n",
    "\n",
    "ts_cv = TimeSeriesSplit(\n",
    "    n_splits=5,\n",
    "    gap=7,\n",
    "    max_train_size=None,\n",
    "    test_size=None,\n",
    ")\n",
    "cv_results = cross_validate(\n",
    "    model,\n",
    "    data['X_train'],\n",
    "    data['y_train'].values.ravel(),\n",
    "    cv=ts_cv,\n",
    "    return_estimator=True,\n",
    "    return_train_score=True,\n",
    "    scoring=[\n",
    "        \"neg_mean_absolute_error\",\n",
    "        \"neg_root_mean_squared_error\",\n",
    "        \"neg_mean_absolute_percentage_error\",\n",
    "        \"r2\",\n",
    "    ],\n",
    "    n_jobs=-1,\n",
    ")\n",
    "\n",
    "mae = -cv_results[\"test_neg_mean_absolute_error\"].mean().round(2)\n",
    "rmse = -cv_results[\"test_neg_root_mean_squared_error\"].mean().round(2)\n",
    "mape = -cv_results[\"test_neg_mean_absolute_percentage_error\"].mean().round(2)\n",
    "r2 = cv_results[\"test_r2\"].mean().round(2) \n",
    "\n",
    "metrics = {\"rmse\": rmse, \"mae\": mae, \"mape\": mape, \"r2\": r2}"
   ]
  },
  {
   "cell_type": "code",
   "execution_count": 28,
   "metadata": {},
   "outputs": [
    {
     "data": {
      "text/plain": [
       "{'rmse': 0.35, 'mae': 0.28, 'mape': 0.03, 'r2': 0.3}"
      ]
     },
     "execution_count": 28,
     "metadata": {},
     "output_type": "execute_result"
    }
   ],
   "source": [
    "metrics"
   ]
  },
  {
   "cell_type": "code",
   "execution_count": 4,
   "metadata": {},
   "outputs": [
    {
     "data": {
      "text/plain": [
       "['estimator',\n",
       " 'fit_time',\n",
       " 'score_time',\n",
       " 'test_neg_mean_absolute_error',\n",
       " 'test_neg_mean_absolute_percentage_error',\n",
       " 'test_neg_root_mean_squared_error',\n",
       " 'test_r2',\n",
       " 'train_neg_mean_absolute_error',\n",
       " 'train_neg_mean_absolute_percentage_error',\n",
       " 'train_neg_root_mean_squared_error',\n",
       " 'train_r2']"
      ]
     },
     "execution_count": 4,
     "metadata": {},
     "output_type": "execute_result"
    }
   ],
   "source": [
    "sorted(cv_results.keys())"
   ]
  }
 ],
 "metadata": {
  "kernelspec": {
   "display_name": ".venv",
   "language": "python",
   "name": "python3"
  },
  "language_info": {
   "codemirror_mode": {
    "name": "ipython",
    "version": 3
   },
   "file_extension": ".py",
   "mimetype": "text/x-python",
   "name": "python",
   "nbconvert_exporter": "python",
   "pygments_lexer": "ipython3",
   "version": "3.8.0"
  },
  "orig_nbformat": 4,
  "vscode": {
   "interpreter": {
    "hash": "981ff84a75ccca5c272d919e7edbf93673c562febbc5064adcfa99d0ee2b666d"
   }
  }
 },
 "nbformat": 4,
 "nbformat_minor": 2
}
